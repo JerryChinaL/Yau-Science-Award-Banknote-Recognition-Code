{
 "cells": [
  {
   "cell_type": "code",
   "execution_count": null,
   "metadata": {},
   "outputs": [],
   "source": [
    "#Data augmentation"
   ]
  },
  {
   "cell_type": "code",
   "execution_count": 1,
   "metadata": {},
   "outputs": [
    {
     "name": "stdout",
     "output_type": "stream",
     "text": [
      "0.2.8\n"
     ]
    }
   ],
   "source": [
    "import Augmentor"
   ]
  },
  {
   "cell_type": "code",
   "execution_count": null,
   "metadata": {},
   "outputs": [],
   "source": [
    "times=[10,5,5,4,1,1,4]\n",
    "for i in range(7):\n",
    "    for j in range(times[i]):\n",
    "        p = Augmentor.Pipeline(\"thaicurrencies\")\n",
    "        operations =[\"rotate_without_crop(1, -180, 180)\",\"crop_random(1, 0.6+j*0.05)\",\"shear(1, 25, 25)\",\"skew(1,1)\",\"flip_left_right(1)\",\"flip_top_bottom(1)\",\"zoom(probability=1, min_factor=1.1, max_factor=1.5)\"]\n",
    "        exec(\"p.\"+operations[i])\n",
    "        p.process()"
   ]
  }
 ],
 "metadata": {
  "kernelspec": {
   "display_name": "Python 3",
   "language": "python",
   "name": "python3"
  },
  "language_info": {
   "codemirror_mode": {
    "name": "ipython",
    "version": 3
   },
   "file_extension": ".py",
   "mimetype": "text/x-python",
   "name": "python",
   "nbconvert_exporter": "python",
   "pygments_lexer": "ipython3",
   "version": "3.7.6"
  }
 },
 "nbformat": 4,
 "nbformat_minor": 4
}
